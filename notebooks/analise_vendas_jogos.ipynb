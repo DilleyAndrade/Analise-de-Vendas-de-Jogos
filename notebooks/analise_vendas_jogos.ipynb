{
 "cells": [
  {
   "cell_type": "code",
   "execution_count": 1,
   "id": "b4f48847-a4f7-4a8f-a0ef-c544de7482a2",
   "metadata": {},
   "outputs": [],
   "source": [
    "#importanodo pandas\n",
    "import pandas as pd"
   ]
  },
  {
   "cell_type": "code",
   "execution_count": 2,
   "id": "3629eceb-7a76-4003-9a3f-aecffa78dd03",
   "metadata": {},
   "outputs": [],
   "source": [
    "#Carregar o conjunto de dados em um DataFrame Pandas.\n",
    "data = pd.read_csv('../dataset/Video_Games_Sales_as_at_22_Dec_2016.csv')\n",
    "df = pd.DataFrame(data)"
   ]
  },
  {
   "cell_type": "code",
   "execution_count": 3,
   "id": "3899a03a-d1a6-4378-996b-c3979e0ba3ca",
   "metadata": {},
   "outputs": [
    {
     "data": {
      "text/html": [
       "<div>\n",
       "<style scoped>\n",
       "    .dataframe tbody tr th:only-of-type {\n",
       "        vertical-align: middle;\n",
       "    }\n",
       "\n",
       "    .dataframe tbody tr th {\n",
       "        vertical-align: top;\n",
       "    }\n",
       "\n",
       "    .dataframe thead th {\n",
       "        text-align: right;\n",
       "    }\n",
       "</style>\n",
       "<table border=\"1\" class=\"dataframe\">\n",
       "  <thead>\n",
       "    <tr style=\"text-align: right;\">\n",
       "      <th></th>\n",
       "      <th>Name</th>\n",
       "      <th>Platform</th>\n",
       "      <th>Year_of_Release</th>\n",
       "      <th>Genre</th>\n",
       "      <th>Publisher</th>\n",
       "      <th>NA_Sales</th>\n",
       "      <th>EU_Sales</th>\n",
       "      <th>JP_Sales</th>\n",
       "      <th>Other_Sales</th>\n",
       "      <th>Global_Sales</th>\n",
       "      <th>Critic_Score</th>\n",
       "      <th>Critic_Count</th>\n",
       "      <th>User_Score</th>\n",
       "      <th>User_Count</th>\n",
       "      <th>Developer</th>\n",
       "      <th>Rating</th>\n",
       "    </tr>\n",
       "  </thead>\n",
       "  <tbody>\n",
       "    <tr>\n",
       "      <th>0</th>\n",
       "      <td>Wii Sports</td>\n",
       "      <td>Wii</td>\n",
       "      <td>2006.0</td>\n",
       "      <td>Sports</td>\n",
       "      <td>Nintendo</td>\n",
       "      <td>41.36</td>\n",
       "      <td>28.96</td>\n",
       "      <td>3.77</td>\n",
       "      <td>8.45</td>\n",
       "      <td>82.53</td>\n",
       "      <td>76.0</td>\n",
       "      <td>51.0</td>\n",
       "      <td>8</td>\n",
       "      <td>322.0</td>\n",
       "      <td>Nintendo</td>\n",
       "      <td>E</td>\n",
       "    </tr>\n",
       "    <tr>\n",
       "      <th>1</th>\n",
       "      <td>Super Mario Bros.</td>\n",
       "      <td>NES</td>\n",
       "      <td>1985.0</td>\n",
       "      <td>Platform</td>\n",
       "      <td>Nintendo</td>\n",
       "      <td>29.08</td>\n",
       "      <td>3.58</td>\n",
       "      <td>6.81</td>\n",
       "      <td>0.77</td>\n",
       "      <td>40.24</td>\n",
       "      <td>NaN</td>\n",
       "      <td>NaN</td>\n",
       "      <td>NaN</td>\n",
       "      <td>NaN</td>\n",
       "      <td>NaN</td>\n",
       "      <td>NaN</td>\n",
       "    </tr>\n",
       "    <tr>\n",
       "      <th>2</th>\n",
       "      <td>Mario Kart Wii</td>\n",
       "      <td>Wii</td>\n",
       "      <td>2008.0</td>\n",
       "      <td>Racing</td>\n",
       "      <td>Nintendo</td>\n",
       "      <td>15.68</td>\n",
       "      <td>12.76</td>\n",
       "      <td>3.79</td>\n",
       "      <td>3.29</td>\n",
       "      <td>35.52</td>\n",
       "      <td>82.0</td>\n",
       "      <td>73.0</td>\n",
       "      <td>8.3</td>\n",
       "      <td>709.0</td>\n",
       "      <td>Nintendo</td>\n",
       "      <td>E</td>\n",
       "    </tr>\n",
       "    <tr>\n",
       "      <th>3</th>\n",
       "      <td>Wii Sports Resort</td>\n",
       "      <td>Wii</td>\n",
       "      <td>2009.0</td>\n",
       "      <td>Sports</td>\n",
       "      <td>Nintendo</td>\n",
       "      <td>15.61</td>\n",
       "      <td>10.93</td>\n",
       "      <td>3.28</td>\n",
       "      <td>2.95</td>\n",
       "      <td>32.77</td>\n",
       "      <td>80.0</td>\n",
       "      <td>73.0</td>\n",
       "      <td>8</td>\n",
       "      <td>192.0</td>\n",
       "      <td>Nintendo</td>\n",
       "      <td>E</td>\n",
       "    </tr>\n",
       "    <tr>\n",
       "      <th>4</th>\n",
       "      <td>Pokemon Red/Pokemon Blue</td>\n",
       "      <td>GB</td>\n",
       "      <td>1996.0</td>\n",
       "      <td>Role-Playing</td>\n",
       "      <td>Nintendo</td>\n",
       "      <td>11.27</td>\n",
       "      <td>8.89</td>\n",
       "      <td>10.22</td>\n",
       "      <td>1.00</td>\n",
       "      <td>31.37</td>\n",
       "      <td>NaN</td>\n",
       "      <td>NaN</td>\n",
       "      <td>NaN</td>\n",
       "      <td>NaN</td>\n",
       "      <td>NaN</td>\n",
       "      <td>NaN</td>\n",
       "    </tr>\n",
       "    <tr>\n",
       "      <th>...</th>\n",
       "      <td>...</td>\n",
       "      <td>...</td>\n",
       "      <td>...</td>\n",
       "      <td>...</td>\n",
       "      <td>...</td>\n",
       "      <td>...</td>\n",
       "      <td>...</td>\n",
       "      <td>...</td>\n",
       "      <td>...</td>\n",
       "      <td>...</td>\n",
       "      <td>...</td>\n",
       "      <td>...</td>\n",
       "      <td>...</td>\n",
       "      <td>...</td>\n",
       "      <td>...</td>\n",
       "      <td>...</td>\n",
       "    </tr>\n",
       "    <tr>\n",
       "      <th>95</th>\n",
       "      <td>Crash Bandicoot 2: Cortex Strikes Back</td>\n",
       "      <td>PS</td>\n",
       "      <td>1997.0</td>\n",
       "      <td>Platform</td>\n",
       "      <td>Sony Computer Entertainment</td>\n",
       "      <td>3.78</td>\n",
       "      <td>2.17</td>\n",
       "      <td>1.31</td>\n",
       "      <td>0.31</td>\n",
       "      <td>7.58</td>\n",
       "      <td>NaN</td>\n",
       "      <td>NaN</td>\n",
       "      <td>NaN</td>\n",
       "      <td>NaN</td>\n",
       "      <td>NaN</td>\n",
       "      <td>NaN</td>\n",
       "    </tr>\n",
       "    <tr>\n",
       "      <th>96</th>\n",
       "      <td>Super Smash Bros. for Wii U and 3DS</td>\n",
       "      <td>3DS</td>\n",
       "      <td>2014.0</td>\n",
       "      <td>Fighting</td>\n",
       "      <td>Nintendo</td>\n",
       "      <td>3.27</td>\n",
       "      <td>1.37</td>\n",
       "      <td>2.43</td>\n",
       "      <td>0.48</td>\n",
       "      <td>7.55</td>\n",
       "      <td>NaN</td>\n",
       "      <td>NaN</td>\n",
       "      <td>NaN</td>\n",
       "      <td>NaN</td>\n",
       "      <td>NaN</td>\n",
       "      <td>NaN</td>\n",
       "    </tr>\n",
       "    <tr>\n",
       "      <th>97</th>\n",
       "      <td>Super Mario Galaxy 2</td>\n",
       "      <td>Wii</td>\n",
       "      <td>2010.0</td>\n",
       "      <td>Platform</td>\n",
       "      <td>Nintendo</td>\n",
       "      <td>3.56</td>\n",
       "      <td>2.35</td>\n",
       "      <td>0.98</td>\n",
       "      <td>0.62</td>\n",
       "      <td>7.51</td>\n",
       "      <td>97.0</td>\n",
       "      <td>87.0</td>\n",
       "      <td>9.1</td>\n",
       "      <td>1854.0</td>\n",
       "      <td>Nintendo EAD Tokyo</td>\n",
       "      <td>E</td>\n",
       "    </tr>\n",
       "    <tr>\n",
       "      <th>98</th>\n",
       "      <td>Super Mario Bros. 2</td>\n",
       "      <td>NES</td>\n",
       "      <td>1988.0</td>\n",
       "      <td>Platform</td>\n",
       "      <td>Nintendo</td>\n",
       "      <td>5.39</td>\n",
       "      <td>1.18</td>\n",
       "      <td>0.70</td>\n",
       "      <td>0.19</td>\n",
       "      <td>7.46</td>\n",
       "      <td>NaN</td>\n",
       "      <td>NaN</td>\n",
       "      <td>NaN</td>\n",
       "      <td>NaN</td>\n",
       "      <td>NaN</td>\n",
       "      <td>NaN</td>\n",
       "    </tr>\n",
       "    <tr>\n",
       "      <th>99</th>\n",
       "      <td>Call of Duty: Black Ops 3</td>\n",
       "      <td>XOne</td>\n",
       "      <td>2015.0</td>\n",
       "      <td>Shooter</td>\n",
       "      <td>Activision</td>\n",
       "      <td>4.59</td>\n",
       "      <td>2.11</td>\n",
       "      <td>0.01</td>\n",
       "      <td>0.68</td>\n",
       "      <td>7.39</td>\n",
       "      <td>NaN</td>\n",
       "      <td>NaN</td>\n",
       "      <td>NaN</td>\n",
       "      <td>NaN</td>\n",
       "      <td>NaN</td>\n",
       "      <td>NaN</td>\n",
       "    </tr>\n",
       "  </tbody>\n",
       "</table>\n",
       "<p>100 rows × 16 columns</p>\n",
       "</div>"
      ],
      "text/plain": [
       "                                      Name Platform  Year_of_Release  \\\n",
       "0                               Wii Sports      Wii           2006.0   \n",
       "1                        Super Mario Bros.      NES           1985.0   \n",
       "2                           Mario Kart Wii      Wii           2008.0   \n",
       "3                        Wii Sports Resort      Wii           2009.0   \n",
       "4                 Pokemon Red/Pokemon Blue       GB           1996.0   \n",
       "..                                     ...      ...              ...   \n",
       "95  Crash Bandicoot 2: Cortex Strikes Back       PS           1997.0   \n",
       "96     Super Smash Bros. for Wii U and 3DS      3DS           2014.0   \n",
       "97                    Super Mario Galaxy 2      Wii           2010.0   \n",
       "98                     Super Mario Bros. 2      NES           1988.0   \n",
       "99               Call of Duty: Black Ops 3     XOne           2015.0   \n",
       "\n",
       "           Genre                    Publisher  NA_Sales  EU_Sales  JP_Sales  \\\n",
       "0         Sports                     Nintendo     41.36     28.96      3.77   \n",
       "1       Platform                     Nintendo     29.08      3.58      6.81   \n",
       "2         Racing                     Nintendo     15.68     12.76      3.79   \n",
       "3         Sports                     Nintendo     15.61     10.93      3.28   \n",
       "4   Role-Playing                     Nintendo     11.27      8.89     10.22   \n",
       "..           ...                          ...       ...       ...       ...   \n",
       "95      Platform  Sony Computer Entertainment      3.78      2.17      1.31   \n",
       "96      Fighting                     Nintendo      3.27      1.37      2.43   \n",
       "97      Platform                     Nintendo      3.56      2.35      0.98   \n",
       "98      Platform                     Nintendo      5.39      1.18      0.70   \n",
       "99       Shooter                   Activision      4.59      2.11      0.01   \n",
       "\n",
       "    Other_Sales  Global_Sales  Critic_Score  Critic_Count User_Score  \\\n",
       "0          8.45         82.53          76.0          51.0          8   \n",
       "1          0.77         40.24           NaN           NaN        NaN   \n",
       "2          3.29         35.52          82.0          73.0        8.3   \n",
       "3          2.95         32.77          80.0          73.0          8   \n",
       "4          1.00         31.37           NaN           NaN        NaN   \n",
       "..          ...           ...           ...           ...        ...   \n",
       "95         0.31          7.58           NaN           NaN        NaN   \n",
       "96         0.48          7.55           NaN           NaN        NaN   \n",
       "97         0.62          7.51          97.0          87.0        9.1   \n",
       "98         0.19          7.46           NaN           NaN        NaN   \n",
       "99         0.68          7.39           NaN           NaN        NaN   \n",
       "\n",
       "    User_Count           Developer Rating  \n",
       "0        322.0            Nintendo      E  \n",
       "1          NaN                 NaN    NaN  \n",
       "2        709.0            Nintendo      E  \n",
       "3        192.0            Nintendo      E  \n",
       "4          NaN                 NaN    NaN  \n",
       "..         ...                 ...    ...  \n",
       "95         NaN                 NaN    NaN  \n",
       "96         NaN                 NaN    NaN  \n",
       "97      1854.0  Nintendo EAD Tokyo      E  \n",
       "98         NaN                 NaN    NaN  \n",
       "99         NaN                 NaN    NaN  \n",
       "\n",
       "[100 rows x 16 columns]"
      ]
     },
     "execution_count": 3,
     "metadata": {},
     "output_type": "execute_result"
    }
   ],
   "source": [
    "#Carregando as 100 primeiras linhas\n",
    "df.head(100)"
   ]
  },
  {
   "cell_type": "code",
   "execution_count": 4,
   "id": "aa1e336a-d18f-433e-9162-50411d986d97",
   "metadata": {},
   "outputs": [
    {
     "data": {
      "text/plain": [
       "(16719, 16)"
      ]
     },
     "execution_count": 4,
     "metadata": {},
     "output_type": "execute_result"
    }
   ],
   "source": [
    "#Verificar o número de linhas e colunas.\n",
    "df.shape"
   ]
  },
  {
   "cell_type": "code",
   "execution_count": 5,
   "id": "be46637b-ca87-4c9f-aaac-fa16b810e27d",
   "metadata": {},
   "outputs": [
    {
     "name": "stdout",
     "output_type": "stream",
     "text": [
      "<class 'pandas.core.frame.DataFrame'>\n",
      "RangeIndex: 16719 entries, 0 to 16718\n",
      "Data columns (total 16 columns):\n",
      " #   Column           Non-Null Count  Dtype  \n",
      "---  ------           --------------  -----  \n",
      " 0   Name             16717 non-null  object \n",
      " 1   Platform         16719 non-null  object \n",
      " 2   Year_of_Release  16450 non-null  float64\n",
      " 3   Genre            16717 non-null  object \n",
      " 4   Publisher        16665 non-null  object \n",
      " 5   NA_Sales         16719 non-null  float64\n",
      " 6   EU_Sales         16719 non-null  float64\n",
      " 7   JP_Sales         16719 non-null  float64\n",
      " 8   Other_Sales      16719 non-null  float64\n",
      " 9   Global_Sales     16719 non-null  float64\n",
      " 10  Critic_Score     8137 non-null   float64\n",
      " 11  Critic_Count     8137 non-null   float64\n",
      " 12  User_Score       10015 non-null  object \n",
      " 13  User_Count       7590 non-null   float64\n",
      " 14  Developer        10096 non-null  object \n",
      " 15  Rating           9950 non-null   object \n",
      "dtypes: float64(9), object(7)\n",
      "memory usage: 2.0+ MB\n"
     ]
    }
   ],
   "source": [
    "#Verificar datatypes das colunas\n",
    "df.info()"
   ]
  },
  {
   "cell_type": "code",
   "execution_count": 6,
   "id": "f4940c94-61d3-4ba8-b881-17ec3ef3f633",
   "metadata": {
    "scrolled": true
   },
   "outputs": [
    {
     "data": {
      "text/plain": [
       "Name                  2\n",
       "Platform              0\n",
       "Year_of_Release     269\n",
       "Genre                 2\n",
       "Publisher            54\n",
       "NA_Sales              0\n",
       "EU_Sales              0\n",
       "JP_Sales              0\n",
       "Other_Sales           0\n",
       "Global_Sales          0\n",
       "Critic_Score       8582\n",
       "Critic_Count       8582\n",
       "User_Score         6704\n",
       "User_Count         9129\n",
       "Developer          6623\n",
       "Rating             6769\n",
       "dtype: int64"
      ]
     },
     "execution_count": 6,
     "metadata": {},
     "output_type": "execute_result"
    }
   ],
   "source": [
    "#Verificar o total de valores ausentes por coluna\n",
    "df.isnull().sum()"
   ]
  },
  {
   "cell_type": "code",
   "execution_count": 7,
   "id": "7532f8e6-98c5-4be3-8a97-22063e95277b",
   "metadata": {},
   "outputs": [
    {
     "name": "stdout",
     "output_type": "stream",
     "text": [
      "O arquivo possui 46716 valores ausentes.\n"
     ]
    }
   ],
   "source": [
    "#total de valores ausentes\n",
    "total_nulos_por_coluna = df.isnull().sum()\n",
    "total_nulos = total_nulos_por_coluna.sum()\n",
    "print(f'O arquivo possui {total_nulos} valores ausentes.')"
   ]
  },
  {
   "cell_type": "code",
   "execution_count": 8,
   "id": "3c865173-0054-4315-8f15-28b5b13d2a56",
   "metadata": {},
   "outputs": [
    {
     "name": "stdout",
     "output_type": "stream",
     "text": [
      "Temos 17.46% de valores nulos\n"
     ]
    }
   ],
   "source": [
    "#Calcular porcentagem dos valores ausentes\n",
    "total_valores = df.shape[0] * df.shape[1]\n",
    "\n",
    "porcentagem_ausente = round(((total_nulos/total_valores) * 100.00),2)\n",
    "print(f'Temos {porcentagem_ausente}% de valores nulos')\n"
   ]
  },
  {
   "cell_type": "markdown",
   "id": "1a35db66-3d79-40d9-bdf5-0796e105c2fe",
   "metadata": {},
   "source": [
    "***Limpeza e Tratamento de Dados***"
   ]
  },
  {
   "cell_type": "code",
   "execution_count": 9,
   "id": "ced0f9b8-ec62-4707-9792-37eda703f845",
   "metadata": {
    "scrolled": true
   },
   "outputs": [],
   "source": [
    "#Removendo valores nulos de Name. De NaN para Not_Informed\n",
    "df.fillna({'Name':'Not_Informed'}, inplace=True)"
   ]
  },
  {
   "cell_type": "code",
   "execution_count": 10,
   "id": "4c91f78f-0459-46f8-b8f7-1bfb8f4188dc",
   "metadata": {},
   "outputs": [],
   "source": [
    "#Removendo valores nulos de Year_of_Release. De NaN para 0\n",
    "df.fillna({'Year_of_Release':0}, inplace=True)"
   ]
  },
  {
   "cell_type": "code",
   "execution_count": 11,
   "id": "61b397b1-90cf-415e-8543-fe5b4c846ad3",
   "metadata": {},
   "outputs": [],
   "source": [
    "#Convertendo coluna Year_of_Release. De float para inteiro\n",
    "df['Year_of_Release'] = df['Year_of_Release'].astype(int)"
   ]
  },
  {
   "cell_type": "code",
   "execution_count": 12,
   "id": "f075a7ad-3fa2-4e2e-acff-9d9518e1a5a0",
   "metadata": {},
   "outputs": [],
   "source": [
    "#Removendo valores nulos de Genre. De NaN para Not_Informed\n",
    "df.fillna({'Genre':'Not_Informed'}, inplace=True)"
   ]
  },
  {
   "cell_type": "code",
   "execution_count": 13,
   "id": "4078e22a-7ca9-40d3-9648-879d6a47231c",
   "metadata": {},
   "outputs": [],
   "source": [
    "#Removendo valores nulos de publicher. De NaN para Not_Informed\n",
    "df.fillna({'Publisher':'Not_Informed'}, inplace=True)"
   ]
  },
  {
   "cell_type": "code",
   "execution_count": 14,
   "id": "5e1e972b-c4c6-4d89-a11e-8f1c144de171",
   "metadata": {},
   "outputs": [],
   "source": [
    "#Removendo valores nulos de publicher. De NaN para 0\n",
    "df.fillna({'Critic_Score':0}, inplace=True)"
   ]
  },
  {
   "cell_type": "code",
   "execution_count": 15,
   "id": "5792130d-da9a-42ac-b227-c46edd3d33e5",
   "metadata": {
    "scrolled": true
   },
   "outputs": [],
   "source": [
    "#Removendo valores nulos de Critic_Count. De NaN para 0\n",
    "df.fillna({'Critic_Count':0}, inplace=True)"
   ]
  },
  {
   "cell_type": "code",
   "execution_count": 16,
   "id": "83669800-33cc-4087-87da-c4201393bea9",
   "metadata": {},
   "outputs": [],
   "source": [
    "#Removendo valores nulos de User_Count. De NaN para 0\n",
    "df.fillna({'User_Count':0}, inplace=True)"
   ]
  },
  {
   "cell_type": "code",
   "execution_count": 17,
   "id": "8304f4e2-da5d-4dbe-9580-428aaf35c5a6",
   "metadata": {},
   "outputs": [],
   "source": [
    "##Removendo valores nulos de User_Score. De NaN para 0\n",
    "df.fillna({'User_Score':'0'}, inplace=True)"
   ]
  },
  {
   "cell_type": "code",
   "execution_count": 18,
   "id": "47c27860-ae6b-42ba-9ab4-380aae49a98c",
   "metadata": {},
   "outputs": [],
   "source": [
    "#Removendo valores tbd de User_Score. De tbd para 0\n",
    "df['User_Score'] = df['User_Score'].replace('tbd', '0')"
   ]
  },
  {
   "cell_type": "code",
   "execution_count": 19,
   "id": "40feba25-6f33-49cc-a0a5-316ff6ed802d",
   "metadata": {},
   "outputs": [],
   "source": [
    "#Convertendo coluna User_Score. De object para float\n",
    "df['User_Score'] = df['User_Score'].astype(float)"
   ]
  },
  {
   "cell_type": "code",
   "execution_count": 20,
   "id": "3ad771cf-60e1-4887-ac02-658f50277829",
   "metadata": {},
   "outputs": [],
   "source": [
    "#Removendo valores nulos de Developer. De NaN para Not_Informed\n",
    "df.fillna({'Developer':'Not_Informed'}, inplace=True)"
   ]
  },
  {
   "cell_type": "code",
   "execution_count": 21,
   "id": "d023a9e2-8b3f-476a-8667-abe6e24e1ff8",
   "metadata": {},
   "outputs": [],
   "source": [
    "#Removendo valores nulos de Rating. De NaN para Not_Informed\n",
    "df.fillna({'Rating':'Not_Informed'}, inplace=True)"
   ]
  },
  {
   "cell_type": "code",
   "execution_count": 33,
   "id": "7b47b20c-4cbb-4b16-a3f3-cf8181c6226e",
   "metadata": {},
   "outputs": [
    {
     "data": {
      "text/html": [
       "<div>\n",
       "<style scoped>\n",
       "    .dataframe tbody tr th:only-of-type {\n",
       "        vertical-align: middle;\n",
       "    }\n",
       "\n",
       "    .dataframe tbody tr th {\n",
       "        vertical-align: top;\n",
       "    }\n",
       "\n",
       "    .dataframe thead th {\n",
       "        text-align: right;\n",
       "    }\n",
       "</style>\n",
       "<table border=\"1\" class=\"dataframe\">\n",
       "  <thead>\n",
       "    <tr style=\"text-align: right;\">\n",
       "      <th></th>\n",
       "      <th>Name</th>\n",
       "      <th>Platform</th>\n",
       "      <th>Year_of_Release</th>\n",
       "      <th>Genre</th>\n",
       "      <th>Publisher</th>\n",
       "      <th>NA_Sales</th>\n",
       "      <th>EU_Sales</th>\n",
       "      <th>JP_Sales</th>\n",
       "      <th>Other_Sales</th>\n",
       "      <th>Global_Sales</th>\n",
       "      <th>Critic_Score</th>\n",
       "      <th>Critic_Count</th>\n",
       "      <th>User_Score</th>\n",
       "      <th>User_Count</th>\n",
       "      <th>Developer</th>\n",
       "      <th>Rating</th>\n",
       "    </tr>\n",
       "  </thead>\n",
       "  <tbody>\n",
       "    <tr>\n",
       "      <th>0</th>\n",
       "      <td>Wii Sports</td>\n",
       "      <td>Wii</td>\n",
       "      <td>2006</td>\n",
       "      <td>Sports</td>\n",
       "      <td>Nintendo</td>\n",
       "      <td>41.36</td>\n",
       "      <td>28.96</td>\n",
       "      <td>3.77</td>\n",
       "      <td>8.45</td>\n",
       "      <td>82.53</td>\n",
       "      <td>76.0</td>\n",
       "      <td>51.0</td>\n",
       "      <td>8.0</td>\n",
       "      <td>322.0</td>\n",
       "      <td>Nintendo</td>\n",
       "      <td>E</td>\n",
       "    </tr>\n",
       "    <tr>\n",
       "      <th>1</th>\n",
       "      <td>Super Mario Bros.</td>\n",
       "      <td>NES</td>\n",
       "      <td>1985</td>\n",
       "      <td>Platform</td>\n",
       "      <td>Nintendo</td>\n",
       "      <td>29.08</td>\n",
       "      <td>3.58</td>\n",
       "      <td>6.81</td>\n",
       "      <td>0.77</td>\n",
       "      <td>40.24</td>\n",
       "      <td>0.0</td>\n",
       "      <td>0.0</td>\n",
       "      <td>0.0</td>\n",
       "      <td>0.0</td>\n",
       "      <td>Not_Informed</td>\n",
       "      <td>Not_Informed</td>\n",
       "    </tr>\n",
       "    <tr>\n",
       "      <th>2</th>\n",
       "      <td>Mario Kart Wii</td>\n",
       "      <td>Wii</td>\n",
       "      <td>2008</td>\n",
       "      <td>Racing</td>\n",
       "      <td>Nintendo</td>\n",
       "      <td>15.68</td>\n",
       "      <td>12.76</td>\n",
       "      <td>3.79</td>\n",
       "      <td>3.29</td>\n",
       "      <td>35.52</td>\n",
       "      <td>82.0</td>\n",
       "      <td>73.0</td>\n",
       "      <td>8.3</td>\n",
       "      <td>709.0</td>\n",
       "      <td>Nintendo</td>\n",
       "      <td>E</td>\n",
       "    </tr>\n",
       "    <tr>\n",
       "      <th>3</th>\n",
       "      <td>Wii Sports Resort</td>\n",
       "      <td>Wii</td>\n",
       "      <td>2009</td>\n",
       "      <td>Sports</td>\n",
       "      <td>Nintendo</td>\n",
       "      <td>15.61</td>\n",
       "      <td>10.93</td>\n",
       "      <td>3.28</td>\n",
       "      <td>2.95</td>\n",
       "      <td>32.77</td>\n",
       "      <td>80.0</td>\n",
       "      <td>73.0</td>\n",
       "      <td>8.0</td>\n",
       "      <td>192.0</td>\n",
       "      <td>Nintendo</td>\n",
       "      <td>E</td>\n",
       "    </tr>\n",
       "    <tr>\n",
       "      <th>4</th>\n",
       "      <td>Pokemon Red/Pokemon Blue</td>\n",
       "      <td>GB</td>\n",
       "      <td>1996</td>\n",
       "      <td>Role-Playing</td>\n",
       "      <td>Nintendo</td>\n",
       "      <td>11.27</td>\n",
       "      <td>8.89</td>\n",
       "      <td>10.22</td>\n",
       "      <td>1.00</td>\n",
       "      <td>31.37</td>\n",
       "      <td>0.0</td>\n",
       "      <td>0.0</td>\n",
       "      <td>0.0</td>\n",
       "      <td>0.0</td>\n",
       "      <td>Not_Informed</td>\n",
       "      <td>Not_Informed</td>\n",
       "    </tr>\n",
       "    <tr>\n",
       "      <th>...</th>\n",
       "      <td>...</td>\n",
       "      <td>...</td>\n",
       "      <td>...</td>\n",
       "      <td>...</td>\n",
       "      <td>...</td>\n",
       "      <td>...</td>\n",
       "      <td>...</td>\n",
       "      <td>...</td>\n",
       "      <td>...</td>\n",
       "      <td>...</td>\n",
       "      <td>...</td>\n",
       "      <td>...</td>\n",
       "      <td>...</td>\n",
       "      <td>...</td>\n",
       "      <td>...</td>\n",
       "      <td>...</td>\n",
       "    </tr>\n",
       "    <tr>\n",
       "      <th>16714</th>\n",
       "      <td>Samurai Warriors: Sanada Maru</td>\n",
       "      <td>PS3</td>\n",
       "      <td>2016</td>\n",
       "      <td>Action</td>\n",
       "      <td>Tecmo Koei</td>\n",
       "      <td>0.00</td>\n",
       "      <td>0.00</td>\n",
       "      <td>0.01</td>\n",
       "      <td>0.00</td>\n",
       "      <td>0.01</td>\n",
       "      <td>0.0</td>\n",
       "      <td>0.0</td>\n",
       "      <td>0.0</td>\n",
       "      <td>0.0</td>\n",
       "      <td>Not_Informed</td>\n",
       "      <td>Not_Informed</td>\n",
       "    </tr>\n",
       "    <tr>\n",
       "      <th>16715</th>\n",
       "      <td>LMA Manager 2007</td>\n",
       "      <td>X360</td>\n",
       "      <td>2006</td>\n",
       "      <td>Sports</td>\n",
       "      <td>Codemasters</td>\n",
       "      <td>0.00</td>\n",
       "      <td>0.01</td>\n",
       "      <td>0.00</td>\n",
       "      <td>0.00</td>\n",
       "      <td>0.01</td>\n",
       "      <td>0.0</td>\n",
       "      <td>0.0</td>\n",
       "      <td>0.0</td>\n",
       "      <td>0.0</td>\n",
       "      <td>Not_Informed</td>\n",
       "      <td>Not_Informed</td>\n",
       "    </tr>\n",
       "    <tr>\n",
       "      <th>16716</th>\n",
       "      <td>Haitaka no Psychedelica</td>\n",
       "      <td>PSV</td>\n",
       "      <td>2016</td>\n",
       "      <td>Adventure</td>\n",
       "      <td>Idea Factory</td>\n",
       "      <td>0.00</td>\n",
       "      <td>0.00</td>\n",
       "      <td>0.01</td>\n",
       "      <td>0.00</td>\n",
       "      <td>0.01</td>\n",
       "      <td>0.0</td>\n",
       "      <td>0.0</td>\n",
       "      <td>0.0</td>\n",
       "      <td>0.0</td>\n",
       "      <td>Not_Informed</td>\n",
       "      <td>Not_Informed</td>\n",
       "    </tr>\n",
       "    <tr>\n",
       "      <th>16717</th>\n",
       "      <td>Spirits &amp; Spells</td>\n",
       "      <td>GBA</td>\n",
       "      <td>2003</td>\n",
       "      <td>Platform</td>\n",
       "      <td>Wanadoo</td>\n",
       "      <td>0.01</td>\n",
       "      <td>0.00</td>\n",
       "      <td>0.00</td>\n",
       "      <td>0.00</td>\n",
       "      <td>0.01</td>\n",
       "      <td>0.0</td>\n",
       "      <td>0.0</td>\n",
       "      <td>0.0</td>\n",
       "      <td>0.0</td>\n",
       "      <td>Not_Informed</td>\n",
       "      <td>Not_Informed</td>\n",
       "    </tr>\n",
       "    <tr>\n",
       "      <th>16718</th>\n",
       "      <td>Winning Post 8 2016</td>\n",
       "      <td>PSV</td>\n",
       "      <td>2016</td>\n",
       "      <td>Simulation</td>\n",
       "      <td>Tecmo Koei</td>\n",
       "      <td>0.00</td>\n",
       "      <td>0.00</td>\n",
       "      <td>0.01</td>\n",
       "      <td>0.00</td>\n",
       "      <td>0.01</td>\n",
       "      <td>0.0</td>\n",
       "      <td>0.0</td>\n",
       "      <td>0.0</td>\n",
       "      <td>0.0</td>\n",
       "      <td>Not_Informed</td>\n",
       "      <td>Not_Informed</td>\n",
       "    </tr>\n",
       "  </tbody>\n",
       "</table>\n",
       "<p>16719 rows × 16 columns</p>\n",
       "</div>"
      ],
      "text/plain": [
       "                                Name Platform  Year_of_Release         Genre  \\\n",
       "0                         Wii Sports      Wii             2006        Sports   \n",
       "1                  Super Mario Bros.      NES             1985      Platform   \n",
       "2                     Mario Kart Wii      Wii             2008        Racing   \n",
       "3                  Wii Sports Resort      Wii             2009        Sports   \n",
       "4           Pokemon Red/Pokemon Blue       GB             1996  Role-Playing   \n",
       "...                              ...      ...              ...           ...   \n",
       "16714  Samurai Warriors: Sanada Maru      PS3             2016        Action   \n",
       "16715               LMA Manager 2007     X360             2006        Sports   \n",
       "16716        Haitaka no Psychedelica      PSV             2016     Adventure   \n",
       "16717               Spirits & Spells      GBA             2003      Platform   \n",
       "16718            Winning Post 8 2016      PSV             2016    Simulation   \n",
       "\n",
       "          Publisher  NA_Sales  EU_Sales  JP_Sales  Other_Sales  Global_Sales  \\\n",
       "0          Nintendo     41.36     28.96      3.77         8.45         82.53   \n",
       "1          Nintendo     29.08      3.58      6.81         0.77         40.24   \n",
       "2          Nintendo     15.68     12.76      3.79         3.29         35.52   \n",
       "3          Nintendo     15.61     10.93      3.28         2.95         32.77   \n",
       "4          Nintendo     11.27      8.89     10.22         1.00         31.37   \n",
       "...             ...       ...       ...       ...          ...           ...   \n",
       "16714    Tecmo Koei      0.00      0.00      0.01         0.00          0.01   \n",
       "16715   Codemasters      0.00      0.01      0.00         0.00          0.01   \n",
       "16716  Idea Factory      0.00      0.00      0.01         0.00          0.01   \n",
       "16717       Wanadoo      0.01      0.00      0.00         0.00          0.01   \n",
       "16718    Tecmo Koei      0.00      0.00      0.01         0.00          0.01   \n",
       "\n",
       "       Critic_Score  Critic_Count  User_Score  User_Count     Developer  \\\n",
       "0              76.0          51.0         8.0       322.0      Nintendo   \n",
       "1               0.0           0.0         0.0         0.0  Not_Informed   \n",
       "2              82.0          73.0         8.3       709.0      Nintendo   \n",
       "3              80.0          73.0         8.0       192.0      Nintendo   \n",
       "4               0.0           0.0         0.0         0.0  Not_Informed   \n",
       "...             ...           ...         ...         ...           ...   \n",
       "16714           0.0           0.0         0.0         0.0  Not_Informed   \n",
       "16715           0.0           0.0         0.0         0.0  Not_Informed   \n",
       "16716           0.0           0.0         0.0         0.0  Not_Informed   \n",
       "16717           0.0           0.0         0.0         0.0  Not_Informed   \n",
       "16718           0.0           0.0         0.0         0.0  Not_Informed   \n",
       "\n",
       "             Rating  \n",
       "0                 E  \n",
       "1      Not_Informed  \n",
       "2                 E  \n",
       "3                 E  \n",
       "4      Not_Informed  \n",
       "...             ...  \n",
       "16714  Not_Informed  \n",
       "16715  Not_Informed  \n",
       "16716  Not_Informed  \n",
       "16717  Not_Informed  \n",
       "16718  Not_Informed  \n",
       "\n",
       "[16719 rows x 16 columns]"
      ]
     },
     "execution_count": 33,
     "metadata": {},
     "output_type": "execute_result"
    }
   ],
   "source": [
    "#verificando transformações\n",
    "df"
   ]
  },
  {
   "cell_type": "code",
   "execution_count": null,
   "id": "4866bda6",
   "metadata": {},
   "outputs": [
    {
     "data": {
      "text/plain": [
       "Name               0\n",
       "Platform           0\n",
       "Year_of_Release    0\n",
       "Genre              0\n",
       "Publisher          0\n",
       "NA_Sales           0\n",
       "EU_Sales           0\n",
       "JP_Sales           0\n",
       "Other_Sales        0\n",
       "Global_Sales       0\n",
       "Critic_Score       0\n",
       "Critic_Count       0\n",
       "User_Score         0\n",
       "User_Count         0\n",
       "Developer          0\n",
       "Rating             0\n",
       "dtype: int64"
      ]
     },
     "execution_count": 43,
     "metadata": {},
     "output_type": "execute_result"
    }
   ],
   "source": [
    "#Verificação de valores ausentes\n",
    "df.isnull().sum()"
   ]
  },
  {
   "cell_type": "code",
   "execution_count": 34,
   "id": "b95087b4-96fe-4464-aad3-eb86354bca69",
   "metadata": {},
   "outputs": [],
   "source": [
    "#Criação de arquivo parquet com dataset limpo\n",
    "df.to_parquet('../dataset_final_parquet/video_games_sales.parquet', compression='snappy', index=False)"
   ]
  },
  {
   "cell_type": "markdown",
   "id": "887cf557-2306-46e6-a286-cb48679fdf71",
   "metadata": {},
   "source": [
    "**Análise de Vendas Globais:**"
   ]
  },
  {
   "cell_type": "code",
   "execution_count": 35,
   "id": "54d7f728-4d47-4937-a0a5-0bb3d3d2b83e",
   "metadata": {},
   "outputs": [
    {
     "name": "stdout",
     "output_type": "stream",
     "text": [
      "Total de vendas globais de todos os jogos: $8920.3\n"
     ]
    }
   ],
   "source": [
    "#Qual o total de vendas globais de todos os jogos?\n",
    "total_global_sale = df['Global_Sales'].sum()\n",
    "print(f'Total de vendas globais de todos os jogos: ${round(total_global_sale, 2)}')"
   ]
  },
  {
   "cell_type": "code",
   "execution_count": 36,
   "id": "225650d8-749a-4fdc-a884-49d3b93b4ccf",
   "metadata": {},
   "outputs": [
    {
     "name": "stdout",
     "output_type": "stream",
     "text": [
      "0                   Wii Sports\n",
      "1            Super Mario Bros.\n",
      "2               Mario Kart Wii\n",
      "3            Wii Sports Resort\n",
      "4     Pokemon Red/Pokemon Blue\n",
      "5                       Tetris\n",
      "6        New Super Mario Bros.\n",
      "7                     Wii Play\n",
      "8    New Super Mario Bros. Wii\n",
      "9                    Duck Hunt\n",
      "Name: Name, dtype: object\n"
     ]
    }
   ],
   "source": [
    "#Quais são os 10 jogos mais vendidos globalmente?\n",
    "top_10_games = df.sort_values(by='Global_Sales', ascending=False).head(10)\n",
    "print(top_10_games['Name'])"
   ]
  },
  {
   "cell_type": "code",
   "execution_count": 37,
   "id": "342452fb-64f0-4bb2-855e-d6cd8c8090be",
   "metadata": {},
   "outputs": [
    {
     "name": "stdout",
     "output_type": "stream",
     "text": [
      "Platform\n",
      "PS2     1255.64\n",
      "X360     971.63\n",
      "PS3      939.43\n",
      "Wii      908.13\n",
      "DS       807.10\n",
      "Name: Global_Sales, dtype: float64\n"
     ]
    }
   ],
   "source": [
    "#Quais são as 5 plataformas com maior venda global?\n",
    "top_5_platforms = (df.groupby('Platform')['Global_Sales'].sum()).sort_values(ascending=False).head(5)\n",
    "print(top_5_platforms)"
   ]
  },
  {
   "cell_type": "code",
   "execution_count": 38,
   "id": "8a34d101-1195-444b-ae49-899a4ce40d98",
   "metadata": {},
   "outputs": [
    {
     "name": "stdout",
     "output_type": "stream",
     "text": [
      "Genre\n",
      "Action          1745.27\n",
      "Sports          1332.00\n",
      "Shooter         1052.94\n",
      "Role-Playing     934.40\n",
      "Platform         828.08\n",
      "Name: Global_Sales, dtype: float64\n"
     ]
    }
   ],
   "source": [
    "#Quais os 5 gêneros de jogos com maior venda global?\n",
    "top_5_genre = (df.groupby('Genre')['Global_Sales'].sum()).sort_values(ascending=False).head(5)\n",
    "print(top_5_genre)"
   ]
  },
  {
   "cell_type": "markdown",
   "id": "6f3a0e56-ae98-4745-a9af-335b7aa23b31",
   "metadata": {},
   "source": [
    "**Análise Temporal:**"
   ]
  },
  {
   "cell_type": "code",
   "execution_count": 39,
   "id": "4e7a3b9d-0dbb-4145-83aa-ed35d9fcbdf8",
   "metadata": {},
   "outputs": [
    {
     "name": "stdout",
     "output_type": "stream",
     "text": [
      "Year_of_Release\n",
      "2008    1427\n",
      "Name: Name, dtype: int64\n"
     ]
    }
   ],
   "source": [
    "#Qual ano teve o maior número de lançamentos de jogos?\n",
    "year_with_more_releases = (df.groupby('Year_of_Release')['Name'].count()).sort_values(ascending=False).head(1)\n",
    "print(year_with_more_releases)"
   ]
  },
  {
   "cell_type": "code",
   "execution_count": 40,
   "id": "93a52bc9-f4ef-420f-b05f-a96239ac3c66",
   "metadata": {},
   "outputs": [
    {
     "name": "stdout",
     "output_type": "stream",
     "text": [
      "Year_of_Release\n",
      "2008    671.79\n",
      "Name: Global_Sales, dtype: float64\n"
     ]
    }
   ],
   "source": [
    "# Qual ano teve as maiores vendas globais?\n",
    "year_with_highest_global_sales = (df.groupby('Year_of_Release')['Global_Sales'].sum()).sort_values(ascending=False).head(1)\n",
    "print(year_with_highest_global_sales)"
   ]
  },
  {
   "cell_type": "code",
   "execution_count": 41,
   "id": "ee06031c-ea2c-4273-9c9b-9eb5b5c98194",
   "metadata": {},
   "outputs": [
    {
     "name": "stdout",
     "output_type": "stream",
     "text": [
      "Year_of_Release\n",
      "0        98.96\n",
      "1980     11.38\n",
      "1981     35.77\n",
      "1982     28.86\n",
      "1983     16.79\n",
      "1984     50.36\n",
      "1985     53.94\n",
      "1986     37.07\n",
      "1987     21.74\n",
      "1988     47.22\n",
      "1989     73.45\n",
      "1990     49.39\n",
      "1991     32.23\n",
      "1992     76.17\n",
      "1993     48.40\n",
      "1994     79.18\n",
      "1995     88.11\n",
      "1996    199.15\n",
      "1997    200.98\n",
      "1998    256.45\n",
      "1999    251.25\n",
      "2000    201.58\n",
      "2001    331.47\n",
      "2002    395.51\n",
      "2003    357.80\n",
      "2004    419.05\n",
      "2005    458.31\n",
      "2006    518.22\n",
      "2007    605.37\n",
      "2008    671.79\n",
      "2009    658.88\n",
      "2010    590.59\n",
      "2011    507.79\n",
      "2012    355.84\n",
      "2013    361.24\n",
      "2014    331.51\n",
      "2015    268.05\n",
      "2016    130.10\n",
      "2017      0.06\n",
      "2020      0.29\n",
      "Name: Global_Sales, dtype: float64\n"
     ]
    }
   ],
   "source": [
    "# Analise a tendência das vendas globais ao longo dos anos. (Você pode agrupar por ano e somar as vendas).\n",
    "annual_sales_trend = (df.groupby('Year_of_Release')['Global_Sales'].sum())\n",
    "print(annual_sales_trend)"
   ]
  },
  {
   "cell_type": "markdown",
   "id": "a437505a-963b-4da2-9cfa-a060107be067",
   "metadata": {},
   "source": [
    "**Insights Adicionais**"
   ]
  },
  {
   "cell_type": "code",
   "execution_count": 42,
   "id": "41bb6449-01b9-4354-8fb6-b13ae344af0f",
   "metadata": {},
   "outputs": [
    {
     "name": "stdout",
     "output_type": "stream",
     "text": [
      "Publisher\n",
      "Electronic Arts                 1356\n",
      "Activision                       985\n",
      "Namco Bandai Games               939\n",
      "Ubisoft                          933\n",
      "Konami Digital Entertainment     834\n",
      "Name: Name, dtype: int64\n"
     ]
    }
   ],
   "source": [
    "#Quais os publishers (editoras) com maior número de jogos lançados?\n",
    "publishers_most_games_released = (df.groupby('Publisher')['Name'].count()).sort_values(ascending=False).head(5)\n",
    "print(publishers_most_games_released)"
   ]
  }
 ],
 "metadata": {
  "kernelspec": {
   "display_name": "base",
   "language": "python",
   "name": "python3"
  },
  "language_info": {
   "codemirror_mode": {
    "name": "ipython",
    "version": 3
   },
   "file_extension": ".py",
   "mimetype": "text/x-python",
   "name": "python",
   "nbconvert_exporter": "python",
   "pygments_lexer": "ipython3",
   "version": "3.12.7"
  }
 },
 "nbformat": 4,
 "nbformat_minor": 5
}
